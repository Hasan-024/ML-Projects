{
  "nbformat": 4,
  "nbformat_minor": 0,
  "metadata": {
    "colab": {
      "name": "MNIST_dataset-project-1.ipynb",
      "provenance": [],
      "collapsed_sections": [],
      "authorship_tag": "ABX9TyN+ruYHOor0qwbMveMnLkbS",
      "include_colab_link": true
    },
    "kernelspec": {
      "name": "python3",
      "display_name": "Python 3"
    },
    "language_info": {
      "name": "python"
    }
  },
  "cells": [
    {
      "cell_type": "markdown",
      "metadata": {
        "id": "view-in-github",
        "colab_type": "text"
      },
      "source": [
        "<a href=\"https://colab.research.google.com/github/Hasan-024/ML-Projects/blob/main/MNIST_dataset_project_1.ipynb\" target=\"_parent\"><img src=\"https://colab.research.google.com/assets/colab-badge.svg\" alt=\"Open In Colab\"/></a>"
      ]
    },
    {
      "cell_type": "markdown",
      "metadata": {
        "id": "dxI2i8yaxBNg"
      },
      "source": [
        "**Call necessary functions**"
      ]
    },
    {
      "cell_type": "code",
      "metadata": {
        "id": "A4gBqha0xJy1"
      },
      "source": [
        "%tensorflow_version 2.x\n",
        "\n",
        "import tensorflow as tf\n",
        "from tensorflow import keras\n",
        "\n",
        "import numpy as np\n",
        "import pandas as pd\n",
        "import matplotlib.pyplot as plt"
      ],
      "execution_count": null,
      "outputs": []
    },
    {
      "cell_type": "markdown",
      "metadata": {
        "id": "ohTEVkFexlzI"
      },
      "source": [
        "**Call the *MNIST* *dataset* from keras**"
      ]
    },
    {
      "cell_type": "code",
      "metadata": {
        "id": "_hw6ukSYxtvx"
      },
      "source": [
        "(train_img,train_output),(test_img,test_output) = keras.datasets.fashion_mnist.load_data()"
      ],
      "execution_count": null,
      "outputs": []
    },
    {
      "cell_type": "code",
      "metadata": {
        "colab": {
          "base_uri": "https://localhost:8080/"
        },
        "id": "ZrD_69DYyJER",
        "outputId": "ee4180de-f627-4139-a4f9-f2e0c802f818"
      },
      "source": [
        "train_img.shape"
      ],
      "execution_count": null,
      "outputs": [
        {
          "output_type": "execute_result",
          "data": {
            "text/plain": [
              "(60000, 28, 28)"
            ]
          },
          "metadata": {},
          "execution_count": 23
        }
      ]
    },
    {
      "cell_type": "markdown",
      "metadata": {
        "id": "PcEYWutayOcb"
      },
      "source": [
        "The number of training images is 60,000. Each of the image is consisting of 28X28 pixels = 784 input neurons"
      ]
    },
    {
      "cell_type": "code",
      "metadata": {
        "colab": {
          "base_uri": "https://localhost:8080/"
        },
        "id": "4Xv4EHcRyiEO",
        "outputId": "ec2a09c7-efbb-4c32-d501-f0991dd02ee3"
      },
      "source": [
        "test_img.shape"
      ],
      "execution_count": null,
      "outputs": [
        {
          "output_type": "execute_result",
          "data": {
            "text/plain": [
              "(10000, 28, 28)"
            ]
          },
          "metadata": {},
          "execution_count": 24
        }
      ]
    },
    {
      "cell_type": "markdown",
      "metadata": {
        "id": "BPMWN766yk0M"
      },
      "source": [
        "The test dataset consists of 10,000 images"
      ]
    },
    {
      "cell_type": "code",
      "metadata": {
        "colab": {
          "base_uri": "https://localhost:8080/"
        },
        "id": "bbR_Yx6RypPh",
        "outputId": "ec59cdad-5601-4c53-88b0-05bba3bdf0cf"
      },
      "source": [
        "train_img[40,25,25]"
      ],
      "execution_count": null,
      "outputs": [
        {
          "output_type": "execute_result",
          "data": {
            "text/plain": [
              "0"
            ]
          },
          "metadata": {},
          "execution_count": 25
        }
      ]
    },
    {
      "cell_type": "markdown",
      "metadata": {
        "id": "8QwSWDOFzy6D"
      },
      "source": [
        "HERE we look at an image . The images are in gray scale so the output will range from 0-255. Output of 0 means the image is black whereas, 255 means it is white."
      ]
    },
    {
      "cell_type": "code",
      "metadata": {
        "colab": {
          "base_uri": "https://localhost:8080/"
        },
        "id": "wDM9bQSJ0Qbc",
        "outputId": "f81d3925-bc6a-450b-b01c-bef86c59c1aa"
      },
      "source": [
        "train_output[:10]"
      ],
      "execution_count": null,
      "outputs": [
        {
          "output_type": "execute_result",
          "data": {
            "text/plain": [
              "array([9, 0, 0, 3, 0, 2, 7, 2, 5, 5], dtype=uint8)"
            ]
          },
          "metadata": {},
          "execution_count": 26
        }
      ]
    },
    {
      "cell_type": "code",
      "metadata": {
        "id": "LegAZJ-00gde"
      },
      "source": [
        "class_names = ['T-shirt/top', 'Trouser', 'Pullover', 'Dress', 'Coat',\n",
        "               'Sandal', 'Shirt', 'Sneaker', 'Bag', 'Ankle boot']"
      ],
      "execution_count": null,
      "outputs": []
    },
    {
      "cell_type": "code",
      "metadata": {
        "colab": {
          "base_uri": "https://localhost:8080/",
          "height": 266
        },
        "id": "XRVh5K1A0isa",
        "outputId": "7a1089db-5645-4134-c16b-7aa2ad7ecc30"
      },
      "source": [
        "plt.figure()\n",
        "plt.imshow(train_img[30])\n",
        "plt.colorbar()\n",
        "plt.show()"
      ],
      "execution_count": null,
      "outputs": [
        {
          "output_type": "display_data",
          "data": {
            "image/png": "[encoded data removed]",
            "text/plain": [
              "<Figure size 432x288 with 2 Axes>"
            ]
          },
          "metadata": {
            "needs_background": "light"
          }
        }
      ]
    },
    {
      "cell_type": "markdown",
      "metadata": {
        "id": "eStvMcIp006k"
      },
      "source": [
        "As we can see, the 31st sample of the training dataset shows us an image of a sandal."
      ]
    },
    {
      "cell_type": "markdown",
      "metadata": {
        "id": "kAIbDKiY1P3B"
      },
      "source": [
        "Now it's time for **data pre-processing**"
      ]
    },
    {
      "cell_type": "code",
      "metadata": {
        "id": "h3Q76XNM0_h-"
      },
      "source": [
        "train_img = train_img / 255\n",
        "test_img = test_img / 255"
      ],
      "execution_count": null,
      "outputs": []
    },
    {
      "cell_type": "code",
      "metadata": {
        "colab": {
          "base_uri": "https://localhost:8080/"
        },
        "id": "ERL3OuYf43ot",
        "outputId": "ef00887e-18b3-4302-a97d-da4d6ee830d9"
      },
      "source": [
        "train_img[255,23,23]"
      ],
      "execution_count": null,
      "outputs": [
        {
          "output_type": "execute_result",
          "data": {
            "text/plain": [
              "0.5568627450980392"
            ]
          },
          "metadata": {},
          "execution_count": 30
        }
      ]
    },
    {
      "cell_type": "markdown",
      "metadata": {
        "id": "hW_DIayf5HQd"
      },
      "source": [
        "All the gray scale images have been transformed into values of 0 to 1."
      ]
    },
    {
      "cell_type": "markdown",
      "metadata": {
        "id": "_wq0cG9v5Ws0"
      },
      "source": [
        "**It's time to build the model using keras**"
      ]
    },
    {
      "cell_type": "code",
      "metadata": {
        "id": "oCMXBcWg5Tzb"
      },
      "source": [
        "model = keras.Sequential(\n",
        "    [\n",
        "     keras.layers.Flatten(input_shape =(28,28)),\n",
        "     keras.layers.Dense(128,activation = \"relu\"),\n",
        "     keras.layers.Dense(10,activation = \"softmax\")\n",
        "    ]\n",
        ")"
      ],
      "execution_count": null,
      "outputs": []
    },
    {
      "cell_type": "markdown",
      "metadata": {
        "id": "jnnjnuarM7zK"
      },
      "source": [
        "Flatten >>>> it flattens the (28,28) dimensional input into a vector of 784 neurons.\n",
        "Dense >>>> It connects every neuron in a layer to the previous layers."
      ]
    },
    {
      "cell_type": "markdown",
      "metadata": {
        "id": "ePcMN0XhNUx3"
      },
      "source": [
        "**Now we have to optimize the model with**\n",
        " Optimizer, Loss functions and Metrics "
      ]
    },
    {
      "cell_type": "code",
      "metadata": {
        "id": "G5W6lIOeNR8d"
      },
      "source": [
        "model.compile(optimizer= \"adam\", loss = \"sparse_categorical_crossentropy\", metrics = [\"accuracy\"])"
      ],
      "execution_count": null,
      "outputs": []
    },
    {
      "cell_type": "markdown",
      "metadata": {
        "id": "5VTw7QZ6Plvd"
      },
      "source": [
        "**Time to train the model**"
      ]
    },
    {
      "cell_type": "code",
      "metadata": {
        "colab": {
          "base_uri": "https://localhost:8080/"
        },
        "id": "gOGflIUnPxuV",
        "outputId": "52938362-d4e8-45e2-8cef-d67c0bc3e92b"
      },
      "source": [
        "model.fit(train_img, train_output, batch_size = 50, epochs = 10)"
      ],
      "execution_count": null,
      "outputs": [
        {
          "output_type": "stream",
          "name": "stdout",
          "text": [
            "Epoch 1/10\n",
            "1200/1200 [==============================] - 4s 3ms/step - loss: 0.5146 - accuracy: 0.8206\n",
            "Epoch 2/10\n",
            "1200/1200 [==============================] - 3s 2ms/step - loss: 0.3847 - accuracy: 0.8625\n",
            "Epoch 3/10\n",
            "1200/1200 [==============================] - 3s 3ms/step - loss: 0.3438 - accuracy: 0.8745\n",
            "Epoch 4/10\n",
            "1200/1200 [==============================] - 3s 2ms/step - loss: 0.3153 - accuracy: 0.8852\n",
            "Epoch 5/10\n",
            "1200/1200 [==============================] - 3s 2ms/step - loss: 0.2980 - accuracy: 0.8901\n",
            "Epoch 6/10\n",
            "1200/1200 [==============================] - 3s 2ms/step - loss: 0.2831 - accuracy: 0.8966\n",
            "Epoch 7/10\n",
            "1200/1200 [==============================] - 3s 2ms/step - loss: 0.2718 - accuracy: 0.8995\n",
            "Epoch 8/10\n",
            "1200/1200 [==============================] - 3s 2ms/step - loss: 0.2605 - accuracy: 0.9041\n",
            "Epoch 9/10\n",
            "1200/1200 [==============================] - 3s 2ms/step - loss: 0.2506 - accuracy: 0.9075\n",
            "Epoch 10/10\n",
            "1200/1200 [==============================] - 3s 2ms/step - loss: 0.2427 - accuracy: 0.9100\n"
          ]
        },
        {
          "output_type": "execute_result",
          "data": {
            "text/plain": [
              "<keras.callbacks.History at 0x7f6344df5450>"
            ]
          },
          "metadata": {},
          "execution_count": 35
        }
      ]
    },
    {
      "cell_type": "markdown",
      "metadata": {
        "id": "V73icoLOQd1G"
      },
      "source": [
        "Let's test the model now\n"
      ]
    },
    {
      "cell_type": "code",
      "metadata": {
        "colab": {
          "base_uri": "https://localhost:8080/"
        },
        "id": "FTd0YrR4QiF-",
        "outputId": "53dbc715-3a63-4464-b1c6-a568d77c1098"
      },
      "source": [
        "test_loss, test_accuracy = model.evaluate(test_img, test_output, verbose = 1)\n",
        "print (\"The accuracy of the model is\", test_accuracy)\n",
        "print (\"The loss of the model is\", test_loss)"
      ],
      "execution_count": null,
      "outputs": [
        {
          "output_type": "stream",
          "name": "stdout",
          "text": [
            "313/313 [==============================] - 0s 1ms/step - loss: 0.3266 - accuracy: 0.8818\n",
            "The accuracy of the model is 0.8817999958992004\n",
            "The loss of the model is 0.32657167315483093\n"
          ]
        }
      ]
    },
    {
      "cell_type": "markdown",
      "metadata": {
        "id": "5x9lWGcFROqP"
      },
      "source": [
        "The reduced accuracy of the model is a result of the sequential model. The **sequential model is only useful when there is only one input and output** of the model, unlike this dataset."
      ]
    },
    {
      "cell_type": "markdown",
      "metadata": {
        "id": "SK2PdFLIRoTl"
      },
      "source": [
        "Let's make some predictions of the model and see if they work."
      ]
    },
    {
      "cell_type": "code",
      "metadata": {
        "id": "2lGxulF0Qb7w"
      },
      "source": [
        "predictions = model.predict(test_img)"
      ],
      "execution_count": null,
      "outputs": []
    },
    {
      "cell_type": "code",
      "metadata": {
        "colab": {
          "base_uri": "https://localhost:8080/"
        },
        "id": "Ptr0D7aAR2nT",
        "outputId": "d4a3002f-d840-4998-926e-89b03c5d284e"
      },
      "source": [
        "prediction_1 = predictions[54]\n",
        "prediction_1"
      ],
      "execution_count": null,
      "outputs": [
        {
          "output_type": "execute_result",
          "data": {
            "text/plain": [
              "array([2.7019129e-04, 5.8282309e-05, 9.6221781e-01, 3.4150446e-05,\n",
              "       3.5191480e-02, 3.8701464e-09, 2.2200556e-03, 2.2336646e-10,\n",
              "       7.9901192e-06, 6.2821108e-08], dtype=float32)"
            ]
          },
          "metadata": {},
          "execution_count": 44
        }
      ]
    },
    {
      "cell_type": "markdown",
      "metadata": {
        "id": "sPIUZD_kSUiP"
      },
      "source": [
        "We have to get a value of the highest score"
      ]
    },
    {
      "cell_type": "code",
      "metadata": {
        "colab": {
          "base_uri": "https://localhost:8080/"
        },
        "id": "eyOuU3SISkCp",
        "outputId": "eb17c87f-079d-4220-cc20-ffb26958c910"
      },
      "source": [
        "prediction_1 = np.argmax(prediction_1)\n",
        "prediction_1"
      ],
      "execution_count": null,
      "outputs": [
        {
          "output_type": "execute_result",
          "data": {
            "text/plain": [
              "2"
            ]
          },
          "metadata": {},
          "execution_count": 49
        }
      ]
    },
    {
      "cell_type": "markdown",
      "metadata": {
        "id": "lf3gkqx6TONr"
      },
      "source": [
        "Now let's check what the test_output show the value of the exact product which is a pullover accoridng to the training and test dataset."
      ]
    },
    {
      "cell_type": "code",
      "metadata": {
        "colab": {
          "base_uri": "https://localhost:8080/"
        },
        "id": "clFH21y5Te6A",
        "outputId": "6582491b-601c-470e-c3b9-7e2778a4d9d3"
      },
      "source": [
        "test_output[54]"
      ],
      "execution_count": null,
      "outputs": [
        {
          "output_type": "execute_result",
          "data": {
            "text/plain": [
              "2"
            ]
          },
          "metadata": {},
          "execution_count": 50
        }
      ]
    },
    {
      "cell_type": "markdown",
      "metadata": {
        "id": "xc_6iDhCTnX_"
      },
      "source": [
        "So the output matches!!!!!!"
      ]
    },
    {
      "cell_type": "code",
      "metadata": {
        "colab": {
          "base_uri": "https://localhost:8080/",
          "height": 313
        },
        "id": "AdpCV1w5UDmS",
        "outputId": "821359ca-57ed-4f82-c9dd-de552baa6aed"
      },
      "source": [
        "COLOR = 'white'\n",
        "plt.rcParams['text.color'] = COLOR\n",
        "plt.rcParams['axes.labelcolor'] = COLOR\n",
        "\n",
        "def predict(model, image, correct_label):\n",
        "  class_names = ['T-shirt/top', 'Trouser', 'Pullover', 'Dress', 'Coat',\n",
        "               'Sandal', 'Shirt', 'Sneaker', 'Bag', 'Ankle boot']\n",
        "  prediction = model.predict(np.array([image]))\n",
        "  predicted_class = class_names[np.argmax(prediction)]\n",
        "\n",
        "  show_image(image, class_names[correct_label], predicted_class)\n",
        "\n",
        "\n",
        "def show_image(img, label, guess):\n",
        "  plt.figure()\n",
        "  plt.imshow(img, cmap=plt.cm.binary)\n",
        "  plt.title(\"Excpected: \" + label)\n",
        "  plt.xlabel(\"Guess: \" + guess)\n",
        "  plt.colorbar()\n",
        "  plt.grid(False)\n",
        "  plt.show()\n",
        "\n",
        "\n",
        "def get_number():\n",
        "  while True:\n",
        "    num = input(\"Pick a number: \")\n",
        "    if num.isdigit():\n",
        "      num = int(num)\n",
        "      if 0 <= num <= 1000:\n",
        "        return int(num)\n",
        "    else:\n",
        "      print(\"Try again...\")\n",
        "\n",
        "num = get_number()\n",
        "image = test_img[num]\n",
        "label = test_output[num]\n",
        "predict(model, image, label)"
      ],
      "execution_count": null,
      "outputs": [
        {
          "name": "stdout",
          "output_type": "stream",
          "text": [
            "Pick a number: 54\n"
          ]
        },
        {
          "output_type": "display_data",
          "data": {
            "image/png": "[encoded data removed]",
            "text/plain": [
              "<Figure size 432x288 with 2 Axes>"
            ]
          },
          "metadata": {
            "needs_background": "light"
          }
        }
      ]
    },
    {
      "cell_type": "markdown",
      "metadata": {
        "id": "xg-rkR-oUIZX"
      },
      "source": [
        "So the item number 54 was a pullover defined by class 2."
      ]
    }
  ]
}