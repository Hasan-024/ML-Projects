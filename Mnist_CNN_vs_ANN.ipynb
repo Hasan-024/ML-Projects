{
  "nbformat": 4,
  "nbformat_minor": 0,
  "metadata": {
    "colab": {
      "name": "Mnist_CNN_vs_ANN.ipynb",
      "provenance": [],
      "collapsed_sections": [],
      "authorship_tag": "ABX9TyMf7Xr25l75Msj3Gb4Yy+tN",
      "include_colab_link": true
    },
    "kernelspec": {
      "name": "python3",
      "display_name": "Python 3"
    },
    "language_info": {
      "name": "python"
    }
  },
  "cells": [
    {
      "cell_type": "markdown",
      "metadata": {
        "id": "view-in-github",
        "colab_type": "text"
      },
      "source": [
        "<a href=\"https://colab.research.google.com/github/Hasan-024/ML-Projects/blob/main/Mnist_CNN_vs_ANN.ipynb\" target=\"_parent\"><img src=\"https://colab.research.google.com/assets/colab-badge.svg\" alt=\"Open In Colab\"/></a>"
      ]
    },
    {
      "cell_type": "code",
      "metadata": {
        "id": "iSLHoFdP8VKu"
      },
      "source": [
        "%tensorflow_version 2.x\n",
        "import tensorflow as tf\n",
        "from tensorflow import keras\n",
        "from tensorflow.keras import layers, models, datasets\n",
        "\n",
        "import numpy as np\n",
        "import pandas as pd\n",
        "import matplotlib.pyplot as plt"
      ],
      "execution_count": 26,
      "outputs": []
    },
    {
      "cell_type": "code",
      "metadata": {
        "id": "FKSuNQK29yIq"
      },
      "source": [
        "(x_train, y_train),(x_test, y_test) = datasets.fashion_mnist.load_data()"
      ],
      "execution_count": 27,
      "outputs": []
    },
    {
      "cell_type": "code",
      "metadata": {
        "colab": {
          "base_uri": "https://localhost:8080/"
        },
        "id": "5ovsRQA6-txZ",
        "outputId": "7803e2e9-88c8-4ca2-f17b-cce7939d7d9d"
      },
      "source": [
        "x_train.shape"
      ],
      "execution_count": 28,
      "outputs": [
        {
          "output_type": "execute_result",
          "data": {
            "text/plain": [
              "(60000, 28, 28)"
            ]
          },
          "metadata": {},
          "execution_count": 28
        }
      ]
    },
    {
      "cell_type": "code",
      "metadata": {
        "colab": {
          "base_uri": "https://localhost:8080/"
        },
        "id": "7KNq7Dy7_AyD",
        "outputId": "0ebe4362-7786-44a8-a9c0-65ef17f91399"
      },
      "source": [
        "y_train.shape"
      ],
      "execution_count": 29,
      "outputs": [
        {
          "output_type": "execute_result",
          "data": {
            "text/plain": [
              "(60000,)"
            ]
          },
          "metadata": {},
          "execution_count": 29
        }
      ]
    },
    {
      "cell_type": "code",
      "metadata": {
        "id": "vvmDSzk4_oJr"
      },
      "source": [
        "class_names = ['T-shirt/top', 'Trouser', 'Pullover', 'Dress', 'Coat',\n",
        "               'Sandal', 'Shirt', 'Sneaker', 'Bag', 'Ankle boot']"
      ],
      "execution_count": 30,
      "outputs": []
    },
    {
      "cell_type": "code",
      "metadata": {
        "id": "DwZsCSy-_s92"
      },
      "source": [
        "def plot_sample (x, y, index):\n",
        "  plt.imshow(x[index])\n",
        "  plt.xlabel(class_names[y[index]])\n",
        "  plt.colorbar()\n",
        "  plt.show()"
      ],
      "execution_count": 31,
      "outputs": []
    },
    {
      "cell_type": "code",
      "metadata": {
        "colab": {
          "base_uri": "https://localhost:8080/",
          "height": 280
        },
        "id": "sXXu6YYeB_mf",
        "outputId": "8331ec77-b4f1-474d-8419-f76b4aecac9b"
      },
      "source": [
        "plot_sample (x_train,y_train, 30)"
      ],
      "execution_count": 32,
      "outputs": [
        {
          "output_type": "display_data",
          "data": {
            "image/png": "[encoded data removed]",
            "text/plain": [
              "<Figure size 432x288 with 2 Axes>"
            ]
          },
          "metadata": {
            "needs_background": "light"
          }
        }
      ]
    },
    {
      "cell_type": "code",
      "metadata": {
        "colab": {
          "base_uri": "https://localhost:8080/",
          "height": 279
        },
        "id": "kI5i4V5GCJHd",
        "outputId": "47b8750b-d0c0-4914-fa6f-c48c8789d294"
      },
      "source": [
        "plot_sample (x_test,y_test, 30)"
      ],
      "execution_count": 33,
      "outputs": [
        {
          "output_type": "display_data",
          "data": {
            "image/png": "[encoded data removed]",
            "text/plain": [
              "<Figure size 432x288 with 2 Axes>"
            ]
          },
          "metadata": {
            "needs_background": "light"
          }
        }
      ]
    },
    {
      "cell_type": "code",
      "metadata": {
        "id": "mVer15f0CTQa"
      },
      "source": [
        "x_train = x_train / 255.0\n",
        "x_test = x_test / 255.0"
      ],
      "execution_count": 34,
      "outputs": []
    },
    {
      "cell_type": "code",
      "metadata": {
        "colab": {
          "base_uri": "https://localhost:8080/"
        },
        "id": "wOaiN30Yhd6h",
        "outputId": "314d7cbb-4aef-45b1-d847-d041377bfe47"
      },
      "source": [
        "x_train = x_train.reshape(-1,28,28,1)\n",
        "x_train.shape"
      ],
      "execution_count": 35,
      "outputs": [
        {
          "output_type": "execute_result",
          "data": {
            "text/plain": [
              "(60000, 28, 28, 1)"
            ]
          },
          "metadata": {},
          "execution_count": 35
        }
      ]
    },
    {
      "cell_type": "code",
      "metadata": {
        "colab": {
          "base_uri": "https://localhost:8080/"
        },
        "id": "CpwKwckXhehL",
        "outputId": "28e3ba02-ae08-4d1e-eb2c-3cfcff59f826"
      },
      "source": [
        "x_test = x_test.reshape(-1,28,28,1)\n",
        "x_test.shape"
      ],
      "execution_count": 36,
      "outputs": [
        {
          "output_type": "execute_result",
          "data": {
            "text/plain": [
              "(10000, 28, 28, 1)"
            ]
          },
          "metadata": {},
          "execution_count": 36
        }
      ]
    },
    {
      "cell_type": "markdown",
      "metadata": {
        "id": "M8tV93OHWf-p"
      },
      "source": [
        "**Artificial neural network (ANN)**"
      ]
    },
    {
      "cell_type": "code",
      "metadata": {
        "id": "4NYZdf0aCkqg"
      },
      "source": [
        "ann = keras.Sequential()\n",
        "ann.add(layers.Flatten(input_shape =(28,28)))\n",
        "ann.add(layers.Dense(128,activation = \"relu\"))\n",
        "ann.add(layers.Dense(10,activation = \"softmax\"))"
      ],
      "execution_count": 37,
      "outputs": []
    },
    {
      "cell_type": "code",
      "metadata": {
        "colab": {
          "base_uri": "https://localhost:8080/"
        },
        "id": "swATYAX_KD6F",
        "outputId": "4edb5a46-e90b-4da4-a217-377a94e3310d"
      },
      "source": [
        "ann.summary()"
      ],
      "execution_count": 38,
      "outputs": [
        {
          "output_type": "stream",
          "name": "stdout",
          "text": [
            "Model: \"sequential\"\n",
            "_________________________________________________________________\n",
            "Layer (type)                 Output Shape              Param #   \n",
            "=================================================================\n",
            "flatten (Flatten)            (None, 784)               0         \n",
            "_________________________________________________________________\n",
            "dense (Dense)                (None, 128)               100480    \n",
            "_________________________________________________________________\n",
            "dense_1 (Dense)              (None, 10)                1290      \n",
            "=================================================================\n",
            "Total params: 101,770\n",
            "Trainable params: 101,770\n",
            "Non-trainable params: 0\n",
            "_________________________________________________________________\n"
          ]
        }
      ]
    },
    {
      "cell_type": "code",
      "metadata": {
        "id": "qwX7jOg3KNiV"
      },
      "source": [
        "ann.compile(optimizer= \"adam\", loss = \"sparse_categorical_crossentropy\", metrics = [\"accuracy\"])"
      ],
      "execution_count": 39,
      "outputs": []
    },
    {
      "cell_type": "code",
      "metadata": {
        "colab": {
          "base_uri": "https://localhost:8080/"
        },
        "id": "dYH0tr2QT0zl",
        "outputId": "bd0f8e59-85d5-4967-a6a0-55d7a8e28b9e"
      },
      "source": [
        "ann.fit(x_train,y_train, epochs=5)"
      ],
      "execution_count": 40,
      "outputs": [
        {
          "output_type": "stream",
          "name": "stdout",
          "text": [
            "Epoch 1/5\n",
            "1875/1875 [==============================] - 4s 2ms/step - loss: 0.5006 - accuracy: 0.8238\n",
            "Epoch 2/5\n",
            "1875/1875 [==============================] - 3s 2ms/step - loss: 0.3728 - accuracy: 0.8654\n",
            "Epoch 3/5\n",
            "1875/1875 [==============================] - 3s 2ms/step - loss: 0.3342 - accuracy: 0.8790\n",
            "Epoch 4/5\n",
            "1875/1875 [==============================] - 3s 2ms/step - loss: 0.3094 - accuracy: 0.8873\n",
            "Epoch 5/5\n",
            "1875/1875 [==============================] - 3s 2ms/step - loss: 0.2940 - accuracy: 0.8921\n"
          ]
        },
        {
          "output_type": "execute_result",
          "data": {
            "text/plain": [
              "<keras.callbacks.History at 0x7fca348abe10>"
            ]
          },
          "metadata": {},
          "execution_count": 40
        }
      ]
    },
    {
      "cell_type": "code",
      "metadata": {
        "colab": {
          "base_uri": "https://localhost:8080/"
        },
        "id": "glXY-nENUTtu",
        "outputId": "134a088b-491b-4a4e-d584-bb8b7589d011"
      },
      "source": [
        "from sklearn.metrics import confusion_matrix , classification_report\n",
        "y_prediction = ann.predict(x_test)\n",
        "y_prediction_classes = [np.argmax(element) for element in y_prediction]\n",
        "\n",
        "print(\"Classification Report: \\n\", classification_report(y_test, y_prediction_classes))"
      ],
      "execution_count": 41,
      "outputs": [
        {
          "output_type": "stream",
          "name": "stdout",
          "text": [
            "Classification Report: \n",
            "               precision    recall  f1-score   support\n",
            "\n",
            "           0       0.83      0.83      0.83      1000\n",
            "           1       0.99      0.96      0.98      1000\n",
            "           2       0.79      0.78      0.78      1000\n",
            "           3       0.87      0.89      0.88      1000\n",
            "           4       0.79      0.79      0.79      1000\n",
            "           5       0.97      0.96      0.96      1000\n",
            "           6       0.67      0.69      0.68      1000\n",
            "           7       0.92      0.97      0.94      1000\n",
            "           8       0.98      0.97      0.97      1000\n",
            "           9       0.97      0.94      0.95      1000\n",
            "\n",
            "    accuracy                           0.88     10000\n",
            "   macro avg       0.88      0.88      0.88     10000\n",
            "weighted avg       0.88      0.88      0.88     10000\n",
            "\n"
          ]
        }
      ]
    },
    {
      "cell_type": "code",
      "metadata": {
        "colab": {
          "base_uri": "https://localhost:8080/"
        },
        "id": "Kv6qvJSBVv_e",
        "outputId": "db10c530-a765-4497-8a22-a7fe96e6d725"
      },
      "source": [
        "ann.evaluate(x_test,y_test)"
      ],
      "execution_count": 42,
      "outputs": [
        {
          "output_type": "stream",
          "name": "stdout",
          "text": [
            "313/313 [==============================] - 0s 1ms/step - loss: 0.3428 - accuracy: 0.8765\n"
          ]
        },
        {
          "output_type": "execute_result",
          "data": {
            "text/plain": [
              "[0.3428264260292053, 0.8765000104904175]"
            ]
          },
          "metadata": {},
          "execution_count": 42
        }
      ]
    },
    {
      "cell_type": "markdown",
      "metadata": {
        "id": "6YnSQI7xWo_7"
      },
      "source": [
        "**CONVOLUTIONAL NEURAL NETWORK**"
      ]
    },
    {
      "cell_type": "code",
      "metadata": {
        "id": "bqcIl98OWuRl"
      },
      "source": [
        "cnn = models.Sequential()\n",
        "\n",
        "cnn.add(layers.Conv2D(input_shape=[28,28,1],filters = 32, kernel_size = 3, padding = \"same\", activation = \"relu\"))\n",
        "cnn.add(layers.MaxPooling2D(pool_size = (2,2)))\n",
        "\n",
        "cnn.add(layers.Conv2D(input_shape=[28,28,1],filters = 64, kernel_size = 3, padding = \"same\", activation = \"relu\"))\n",
        "cnn.add(layers.MaxPooling2D(pool_size = (2,2)))"
      ],
      "execution_count": 43,
      "outputs": []
    },
    {
      "cell_type": "code",
      "metadata": {
        "id": "REjlNE1cYQAn"
      },
      "source": [
        "cnn.add(layers.Flatten())"
      ],
      "execution_count": 44,
      "outputs": []
    },
    {
      "cell_type": "code",
      "metadata": {
        "id": "ja5GGrDSZkiQ"
      },
      "source": [
        "cnn.add(layers.Dropout(0.5,noise_shape=None,seed=None))"
      ],
      "execution_count": 45,
      "outputs": []
    },
    {
      "cell_type": "code",
      "metadata": {
        "id": "P7xssJjEYXYl"
      },
      "source": [
        "cnn.add(layers.Dense(units= 128,activation =\"relu\"))\n",
        "cnn.add(layers.Dense(units= 10,activation=\"softmax\"))"
      ],
      "execution_count": 46,
      "outputs": []
    },
    {
      "cell_type": "code",
      "metadata": {
        "colab": {
          "base_uri": "https://localhost:8080/"
        },
        "id": "zsOpolzdYmuL",
        "outputId": "00283c08-6d3a-4190-a0ca-8413f91d86e0"
      },
      "source": [
        "cnn.summary()"
      ],
      "execution_count": 47,
      "outputs": [
        {
          "output_type": "stream",
          "name": "stdout",
          "text": [
            "Model: \"sequential_1\"\n",
            "_________________________________________________________________\n",
            "Layer (type)                 Output Shape              Param #   \n",
            "=================================================================\n",
            "conv2d (Conv2D)              (None, 28, 28, 32)        320       \n",
            "_________________________________________________________________\n",
            "max_pooling2d (MaxPooling2D) (None, 14, 14, 32)        0         \n",
            "_________________________________________________________________\n",
            "conv2d_1 (Conv2D)            (None, 14, 14, 64)        18496     \n",
            "_________________________________________________________________\n",
            "max_pooling2d_1 (MaxPooling2 (None, 7, 7, 64)          0         \n",
            "_________________________________________________________________\n",
            "flatten_1 (Flatten)          (None, 3136)              0         \n",
            "_________________________________________________________________\n",
            "dropout (Dropout)            (None, 3136)              0         \n",
            "_________________________________________________________________\n",
            "dense_2 (Dense)              (None, 128)               401536    \n",
            "_________________________________________________________________\n",
            "dense_3 (Dense)              (None, 10)                1290      \n",
            "=================================================================\n",
            "Total params: 421,642\n",
            "Trainable params: 421,642\n",
            "Non-trainable params: 0\n",
            "_________________________________________________________________\n"
          ]
        }
      ]
    },
    {
      "cell_type": "code",
      "metadata": {
        "id": "9KWfce24YjO-"
      },
      "source": [
        "cnn.compile(loss=\"sparse_categorical_crossentropy\", optimizer=\"Adam\", metrics=[\"Accuracy\"])"
      ],
      "execution_count": 48,
      "outputs": []
    },
    {
      "cell_type": "code",
      "metadata": {
        "colab": {
          "base_uri": "https://localhost:8080/"
        },
        "id": "MoPed8DwYt6b",
        "outputId": "cef57c7c-4219-43d5-a7f5-d0779bb62165"
      },
      "source": [
        "cnn.fit(x_train,y_train, epochs = 5)"
      ],
      "execution_count": 49,
      "outputs": [
        {
          "output_type": "stream",
          "name": "stdout",
          "text": [
            "Epoch 1/5\n",
            "1875/1875 [==============================] - 68s 36ms/step - loss: 0.4472 - Accuracy: 0.8382\n",
            "Epoch 2/5\n",
            "1875/1875 [==============================] - 67s 36ms/step - loss: 0.3113 - Accuracy: 0.8857\n",
            "Epoch 3/5\n",
            "1875/1875 [==============================] - 67s 36ms/step - loss: 0.2672 - Accuracy: 0.9004\n",
            "Epoch 4/5\n",
            "1875/1875 [==============================] - 67s 36ms/step - loss: 0.2438 - Accuracy: 0.9081\n",
            "Epoch 5/5\n",
            "1875/1875 [==============================] - 66s 35ms/step - loss: 0.2240 - Accuracy: 0.9150\n"
          ]
        },
        {
          "output_type": "execute_result",
          "data": {
            "text/plain": [
              "<keras.callbacks.History at 0x7fca384dc5d0>"
            ]
          },
          "metadata": {},
          "execution_count": 49
        }
      ]
    },
    {
      "cell_type": "code",
      "metadata": {
        "colab": {
          "base_uri": "https://localhost:8080/"
        },
        "id": "jATfHuSJlMYu",
        "outputId": "9c61495c-f196-48c4-c04d-08214e248c28"
      },
      "source": [
        "y_pred = cnn.predict(x_test)\n",
        "y_pred_classes = [np.argmax(element) for element in y_pred]\n",
        "\n",
        "print(\"Classification Report: \\n\", classification_report(y_test, y_pred_classes))"
      ],
      "execution_count": 50,
      "outputs": [
        {
          "output_type": "stream",
          "name": "stdout",
          "text": [
            "Classification Report: \n",
            "               precision    recall  f1-score   support\n",
            "\n",
            "           0       0.83      0.90      0.86      1000\n",
            "           1       0.99      0.99      0.99      1000\n",
            "           2       0.80      0.90      0.85      1000\n",
            "           3       0.94      0.87      0.91      1000\n",
            "           4       0.81      0.87      0.84      1000\n",
            "           5       0.99      0.97      0.98      1000\n",
            "           6       0.81      0.64      0.71      1000\n",
            "           7       0.97      0.94      0.96      1000\n",
            "           8       0.98      0.99      0.99      1000\n",
            "           9       0.94      0.98      0.96      1000\n",
            "\n",
            "    accuracy                           0.91     10000\n",
            "   macro avg       0.91      0.91      0.90     10000\n",
            "weighted avg       0.91      0.91      0.90     10000\n",
            "\n"
          ]
        }
      ]
    },
    {
      "cell_type": "code",
      "metadata": {
        "colab": {
          "base_uri": "https://localhost:8080/"
        },
        "id": "sLDbVul4lrR9",
        "outputId": "1c62c2ae-1b3c-4143-d954-c28ed1dbad95"
      },
      "source": [
        "test_loss, test_accuracy = cnn.evaluate(x_test, y_test, verbose = 1)\n",
        "print (\"The accuracy of the model is\", test_accuracy)\n",
        "print (\"The loss of the model is\", test_loss)"
      ],
      "execution_count": 52,
      "outputs": [
        {
          "output_type": "stream",
          "name": "stdout",
          "text": [
            "313/313 [==============================] - 3s 9ms/step - loss: 0.2552 - Accuracy: 0.9057\n",
            "The accuracy of the model is 0.9057000279426575\n",
            "The loss of the model is 0.25521814823150635\n"
          ]
        }
      ]
    },
    {
      "cell_type": "code",
      "metadata": {
        "id": "uZUHitR6mcQ8"
      },
      "source": [
        "y_pred = cnn.predict(x_test)"
      ],
      "execution_count": 58,
      "outputs": []
    },
    {
      "cell_type": "code",
      "metadata": {
        "colab": {
          "base_uri": "https://localhost:8080/"
        },
        "id": "SBHw15PYmu3j",
        "outputId": "4ae7d4fc-996f-4b4c-f913-468e63a86452"
      },
      "source": [
        "y_pred_1 = np.argmax(y_pred[54])\n",
        "y_pred_1"
      ],
      "execution_count": 60,
      "outputs": [
        {
          "output_type": "execute_result",
          "data": {
            "text/plain": [
              "2"
            ]
          },
          "metadata": {},
          "execution_count": 60
        }
      ]
    },
    {
      "cell_type": "code",
      "metadata": {
        "colab": {
          "base_uri": "https://localhost:8080/"
        },
        "id": "cbn_zaq0m1BM",
        "outputId": "3257ac67-75c4-4e31-e2e2-3cce374f3ad6"
      },
      "source": [
        "y_test[54]"
      ],
      "execution_count": 63,
      "outputs": [
        {
          "output_type": "execute_result",
          "data": {
            "text/plain": [
              "2"
            ]
          },
          "metadata": {},
          "execution_count": 63
        }
      ]
    }
  ]
}