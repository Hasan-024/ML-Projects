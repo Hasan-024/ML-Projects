{
  "nbformat": 4,
  "nbformat_minor": 0,
  "metadata": {
    "colab": {
      "name": "CNN-CIFAR10.ipynb",
      "provenance": [],
      "collapsed_sections": [],
      "authorship_tag": "ABX9TyOB8I3SYP/NK8BCBBqXRzRL",
      "include_colab_link": true
    },
    "kernelspec": {
      "name": "python3",
      "display_name": "Python 3"
    },
    "language_info": {
      "name": "python"
    }
  },
  "cells": [
    {
      "cell_type": "markdown",
      "metadata": {
        "id": "view-in-github",
        "colab_type": "text"
      },
      "source": [
        "<a href=\"https://colab.research.google.com/github/Hasan-024/ML-Projects/blob/main/CNN_CIFAR10.ipynb\" target=\"_parent\"><img src=\"https://colab.research.google.com/assets/colab-badge.svg\" alt=\"Open In Colab\"/></a>"
      ]
    },
    {
      "cell_type": "code",
      "metadata": {
        "id": "D1KrF-pjQbPx"
      },
      "source": [
        "%tensorflow_version 2.x\n",
        "import tensorflow as tf\n",
        "from tensorflow.keras import layers, models, datasets\n",
        "\n",
        "import numpy as np\n",
        "import pandas as pd\n",
        "import matplotlib.pyplot as plt"
      ],
      "execution_count": 37,
      "outputs": []
    },
    {
      "cell_type": "code",
      "metadata": {
        "id": "CangnjBZRTIi"
      },
      "source": [
        "#calling the cifar10 dataaset from keras\n",
        "(train_img, train_labels),(test_img, test_labels) = datasets.cifar10.load_data()"
      ],
      "execution_count": 38,
      "outputs": []
    },
    {
      "cell_type": "code",
      "metadata": {
        "id": "wdEvT5TBSCmO"
      },
      "source": [
        "#pre-processing the data\n",
        "train_img = train_img / 255.0\n",
        "test_img = test_img / 255.0"
      ],
      "execution_count": 39,
      "outputs": []
    },
    {
      "cell_type": "code",
      "metadata": {
        "colab": {
          "base_uri": "https://localhost:8080/"
        },
        "id": "EaIu9OKzSn7u",
        "outputId": "5321d72b-a472-4cfa-90e5-4adb6498c649"
      },
      "source": [
        "train_img.shape"
      ],
      "execution_count": 40,
      "outputs": [
        {
          "output_type": "execute_result",
          "data": {
            "text/plain": [
              "(50000, 32, 32, 3)"
            ]
          },
          "metadata": {},
          "execution_count": 40
        }
      ]
    },
    {
      "cell_type": "markdown",
      "metadata": {
        "id": "EPygzY_KV3vW"
      },
      "source": [
        "50000 is the number of images in the dataset. (32,32) is the size of each image. And 3 stands for RGB as we are using colorful images."
      ]
    },
    {
      "cell_type": "code",
      "metadata": {
        "colab": {
          "base_uri": "https://localhost:8080/"
        },
        "id": "JOk8gOm-TUUt",
        "outputId": "226a6651-da96-4862-bd06-9713b652a472"
      },
      "source": [
        "train_img[1000,28,28]"
      ],
      "execution_count": 41,
      "outputs": [
        {
          "output_type": "execute_result",
          "data": {
            "text/plain": [
              "array([0.44705882, 0.51372549, 0.54509804])"
            ]
          },
          "metadata": {},
          "execution_count": 41
        }
      ]
    },
    {
      "cell_type": "code",
      "metadata": {
        "colab": {
          "base_uri": "https://localhost:8080/"
        },
        "id": "DmlMnhobS-Z8",
        "outputId": "d4f21e25-6ab9-4932-dc32-98fb05c296b6"
      },
      "source": [
        "test_img.shape"
      ],
      "execution_count": 42,
      "outputs": [
        {
          "output_type": "execute_result",
          "data": {
            "text/plain": [
              "(10000, 32, 32, 3)"
            ]
          },
          "metadata": {},
          "execution_count": 42
        }
      ]
    },
    {
      "cell_type": "code",
      "metadata": {
        "colab": {
          "base_uri": "https://localhost:8080/"
        },
        "id": "-hkMsYKVTBR8",
        "outputId": "90bda2e9-16bf-4e17-a959-3f8666349945"
      },
      "source": [
        "train_labels.shape"
      ],
      "execution_count": 43,
      "outputs": [
        {
          "output_type": "execute_result",
          "data": {
            "text/plain": [
              "(50000, 1)"
            ]
          },
          "metadata": {},
          "execution_count": 43
        }
      ]
    },
    {
      "cell_type": "code",
      "metadata": {
        "colab": {
          "base_uri": "https://localhost:8080/"
        },
        "id": "Fs-sU0U7TFXw",
        "outputId": "400535e0-62f4-4054-d8cf-35b11be22553"
      },
      "source": [
        "test_labels.shape"
      ],
      "execution_count": 44,
      "outputs": [
        {
          "output_type": "execute_result",
          "data": {
            "text/plain": [
              "(10000, 1)"
            ]
          },
          "metadata": {},
          "execution_count": 44
        }
      ]
    },
    {
      "cell_type": "code",
      "metadata": {
        "colab": {
          "base_uri": "https://localhost:8080/"
        },
        "id": "QQOjk8OETjQz",
        "outputId": "4745d50c-bd3b-48d6-b6b7-5445893f855d"
      },
      "source": [
        "train_labels[:10]"
      ],
      "execution_count": 45,
      "outputs": [
        {
          "output_type": "execute_result",
          "data": {
            "text/plain": [
              "array([[6],\n",
              "       [9],\n",
              "       [9],\n",
              "       [4],\n",
              "       [1],\n",
              "       [1],\n",
              "       [2],\n",
              "       [7],\n",
              "       [8],\n",
              "       [3]], dtype=uint8)"
            ]
          },
          "metadata": {},
          "execution_count": 45
        }
      ]
    },
    {
      "cell_type": "code",
      "metadata": {
        "id": "pBBg0f7OSkZ3"
      },
      "source": [
        "class_names = ['airplane', 'automobile', 'bird', 'cat', 'deer',\n",
        "               'dog', 'frog', 'horse', 'ship', 'truck']"
      ],
      "execution_count": 46,
      "outputs": []
    },
    {
      "cell_type": "code",
      "metadata": {
        "colab": {
          "base_uri": "https://localhost:8080/",
          "height": 280
        },
        "id": "SitFLvJgTobV",
        "outputId": "1eeeb938-b616-4a84-85f5-d4df04d550ad"
      },
      "source": [
        "plt.figure()\n",
        "plt.imshow(train_img[49000])\n",
        "plt.xlabel(class_names[train_labels[49000][0]])\n",
        "plt.colorbar()\n",
        "plt.show()"
      ],
      "execution_count": 47,
      "outputs": [
        {
          "output_type": "display_data",
          "data": {
            "image/png": "[encoded data removed]",
            "text/plain": [
              "<Figure size 432x288 with 2 Axes>"
            ]
          },
          "metadata": {
            "needs_background": "light"
          }
        }
      ]
    },
    {
      "cell_type": "code",
      "metadata": {
        "colab": {
          "base_uri": "https://localhost:8080/",
          "height": 280
        },
        "id": "l_IiURvIT56k",
        "outputId": "e648e75d-8ae7-4351-eeca-6c515fe9c986"
      },
      "source": [
        "IMG_INDEX = 30  # change this to look at other images\n",
        "\n",
        "plt.imshow(train_img[IMG_INDEX] ,cmap=plt.cm.binary)\n",
        "plt.xlabel(class_names[train_labels[IMG_INDEX][0]])\n",
        "plt.show()"
      ],
      "execution_count": 48,
      "outputs": [
        {
          "output_type": "display_data",
          "data": {
            "image/png": "[encoded data removed]",
            "text/plain": [
              "<Figure size 432x288 with 1 Axes>"
            ]
          },
          "metadata": {
            "needs_background": "light"
          }
        }
      ]
    },
    {
      "cell_type": "markdown",
      "metadata": {
        "id": "HYUgNrPgkjvh"
      },
      "source": [
        "Let's start with building the convolutional neural net!!!\n"
      ]
    },
    {
      "cell_type": "code",
      "metadata": {
        "id": "DxWI0drA9TGx"
      },
      "source": [
        "cifar10_model=tf.keras.models.Sequential()\n",
        "# First Layer(Conv_layer_1)\n",
        "cifar10_model.add(layers.Conv2D(input_shape=[32,32,3],filters = 32, kernel_size = 3, padding = \"same\", activation = \"relu\"))"
      ],
      "execution_count": 49,
      "outputs": []
    },
    {
      "cell_type": "code",
      "metadata": {
        "id": "nRLzqsbpFSKc"
      },
      "source": [
        "# Conv_layer_2)\n",
        "cifar10_model.add(layers.Conv2D(input_shape=[32,32,3],filters = 32, kernel_size = 3, padding = \"same\", activation = \"relu\"))"
      ],
      "execution_count": 50,
      "outputs": []
    },
    {
      "cell_type": "code",
      "metadata": {
        "id": "g_2vNP7WAihF"
      },
      "source": [
        "#Pooling_layer_1\n",
        "cifar10_model.add(layers.MaxPooling2D(pool_size = (2,2), strides = 2, padding = \"valid\"))"
      ],
      "execution_count": 51,
      "outputs": []
    },
    {
      "cell_type": "code",
      "metadata": {
        "id": "WHyfeFhXFYUm"
      },
      "source": [
        "# Conv_layer_3)\n",
        "cifar10_model.add(layers.Conv2D(input_shape=[32,32,3],filters = 64, kernel_size = 3, padding = \"same\", activation = \"relu\"))"
      ],
      "execution_count": 52,
      "outputs": []
    },
    {
      "cell_type": "code",
      "metadata": {
        "id": "eLNXp4dGFjjw"
      },
      "source": [
        "# Conv_layer_4)\n",
        "cifar10_model.add(layers.Conv2D(input_shape=[32,32,3],filters = 64, kernel_size = 3, padding = \"same\", activation = \"relu\"))"
      ],
      "execution_count": 53,
      "outputs": []
    },
    {
      "cell_type": "code",
      "metadata": {
        "id": "6R3mLGcxFmy4"
      },
      "source": [
        "#Pooling_layer_2\n",
        "cifar10_model.add(layers.MaxPooling2D(pool_size = (2,2), strides = 2, padding = \"valid\"))"
      ],
      "execution_count": 54,
      "outputs": []
    },
    {
      "cell_type": "code",
      "metadata": {
        "id": "p3K6NU5bBDue"
      },
      "source": [
        "#Flattening the last layer to connect to the dense layers\n",
        "cifar10_model.add(layers.Flatten())"
      ],
      "execution_count": 55,
      "outputs": []
    },
    {
      "cell_type": "code",
      "metadata": {
        "id": "CnY4uEdaG_nZ"
      },
      "source": [
        "# Droput Layer\n",
        "cifar10_model.add(layers.Dropout(0.5,noise_shape=None,seed=None))"
      ],
      "execution_count": 56,
      "outputs": []
    },
    {
      "cell_type": "code",
      "metadata": {
        "id": "1ncKgZ3tEJbu"
      },
      "source": [
        "#Creating first fully connected (dense) layer\n",
        "cifar10_model.add(layers.Dense(units= 128,activation =\"relu\"))"
      ],
      "execution_count": 57,
      "outputs": []
    },
    {
      "cell_type": "code",
      "metadata": {
        "id": "ryDXoLK4GCEO"
      },
      "source": [
        "#creating output layer (2nd dense layer)\n",
        "cifar10_model.add(layers.Dense(units= 10,activation=\"softmax\"))"
      ],
      "execution_count": 58,
      "outputs": []
    },
    {
      "cell_type": "markdown",
      "metadata": {
        "id": "aYfkJ2wMGlGQ"
      },
      "source": [
        "Let's look at the summary of the model and the layers that are built"
      ]
    },
    {
      "cell_type": "code",
      "metadata": {
        "colab": {
          "base_uri": "https://localhost:8080/"
        },
        "id": "SDGG6LxwGPv_",
        "outputId": "d0412f83-faef-4488-af6f-83f8b92cdf40"
      },
      "source": [
        "cifar10_model.summary()"
      ],
      "execution_count": 59,
      "outputs": [
        {
          "output_type": "stream",
          "name": "stdout",
          "text": [
            "Model: \"sequential_3\"\n",
            "_________________________________________________________________\n",
            "Layer (type)                 Output Shape              Param #   \n",
            "=================================================================\n",
            "conv2d_6 (Conv2D)            (None, 32, 32, 32)        896       \n",
            "_________________________________________________________________\n",
            "conv2d_7 (Conv2D)            (None, 32, 32, 32)        9248      \n",
            "_________________________________________________________________\n",
            "max_pooling2d_3 (MaxPooling2 (None, 16, 16, 32)        0         \n",
            "_________________________________________________________________\n",
            "conv2d_8 (Conv2D)            (None, 16, 16, 64)        18496     \n",
            "_________________________________________________________________\n",
            "conv2d_9 (Conv2D)            (None, 16, 16, 64)        36928     \n",
            "_________________________________________________________________\n",
            "max_pooling2d_4 (MaxPooling2 (None, 8, 8, 64)          0         \n",
            "_________________________________________________________________\n",
            "flatten_1 (Flatten)          (None, 4096)              0         \n",
            "_________________________________________________________________\n",
            "dropout_1 (Dropout)          (None, 4096)              0         \n",
            "_________________________________________________________________\n",
            "dense_6 (Dense)              (None, 128)               524416    \n",
            "_________________________________________________________________\n",
            "dense_7 (Dense)              (None, 10)                1290      \n",
            "=================================================================\n",
            "Total params: 591,274\n",
            "Trainable params: 591,274\n",
            "Non-trainable params: 0\n",
            "_________________________________________________________________\n"
          ]
        }
      ]
    },
    {
      "cell_type": "code",
      "metadata": {
        "id": "9G3FBX61GPIs"
      },
      "source": [
        "#Compiling the model\n",
        "\n",
        "cifar10_model.compile(loss=\"sparse_categorical_crossentropy\", optimizer=\"Adam\", metrics=[\"Accuracy\"])"
      ],
      "execution_count": 60,
      "outputs": []
    },
    {
      "cell_type": "code",
      "metadata": {
        "colab": {
          "base_uri": "https://localhost:8080/"
        },
        "id": "iXEpMAG1IFGf",
        "outputId": "89351cca-09a4-4a8f-ee7a-7aad2023baa1"
      },
      "source": [
        "cifar10_model.fit(train_img,train_labels,epochs = 10)"
      ],
      "execution_count": 61,
      "outputs": [
        {
          "output_type": "stream",
          "name": "stdout",
          "text": [
            "Epoch 1/10\n",
            "1563/1563 [==============================] - 244s 155ms/step - loss: 1.4225 - Accuracy: 0.4845\n",
            "Epoch 2/10\n",
            "1563/1563 [==============================] - 242s 155ms/step - loss: 1.0073 - Accuracy: 0.6407\n",
            "Epoch 3/10\n",
            "1563/1563 [==============================] - 241s 154ms/step - loss: 0.8540 - Accuracy: 0.6972\n",
            "Epoch 4/10\n",
            "1563/1563 [==============================] - 240s 154ms/step - loss: 0.7544 - Accuracy: 0.7332\n",
            "Epoch 5/10\n",
            "1563/1563 [==============================] - 240s 153ms/step - loss: 0.6889 - Accuracy: 0.7561\n",
            "Epoch 6/10\n",
            "1563/1563 [==============================] - 239s 153ms/step - loss: 0.6359 - Accuracy: 0.7737\n",
            "Epoch 7/10\n",
            "1563/1563 [==============================] - 238s 152ms/step - loss: 0.5917 - Accuracy: 0.7916\n",
            "Epoch 8/10\n",
            "1563/1563 [==============================] - 238s 153ms/step - loss: 0.5510 - Accuracy: 0.8054\n",
            "Epoch 9/10\n",
            "1563/1563 [==============================] - 238s 152ms/step - loss: 0.5176 - Accuracy: 0.8157\n",
            "Epoch 10/10\n",
            "1563/1563 [==============================] - 238s 153ms/step - loss: 0.4925 - Accuracy: 0.8251\n"
          ]
        },
        {
          "output_type": "execute_result",
          "data": {
            "text/plain": [
              "<keras.callbacks.History at 0x7fb3d43ed850>"
            ]
          },
          "metadata": {},
          "execution_count": 61
        }
      ]
    },
    {
      "cell_type": "code",
      "metadata": {
        "colab": {
          "base_uri": "https://localhost:8080/"
        },
        "id": "TIcrhvboQF-r",
        "outputId": "aaad5bd7-0bc3-4e6c-d1da-586cb6351946"
      },
      "source": [
        "test_loss, test_accuracy = cifar10_model.evaluate(test_img, test_labels, verbose = 2)\n",
        "print(\" Test accuracy is:\", test_accuracy)"
      ],
      "execution_count": 62,
      "outputs": [
        {
          "output_type": "stream",
          "name": "stdout",
          "text": [
            "313/313 - 11s - loss: 0.6750 - Accuracy: 0.7736\n",
            " Test accuracy is: 0.7735999822616577\n"
          ]
        }
      ]
    },
    {
      "cell_type": "code",
      "metadata": {
        "id": "CmhreNRJRDeb"
      },
      "source": [
        "predictions = cifar10_model.predict(test_img)"
      ],
      "execution_count": 63,
      "outputs": []
    },
    {
      "cell_type": "code",
      "metadata": {
        "id": "bKjZQfGPRMhI"
      },
      "source": [
        "prediction_1 = predictions[9000]"
      ],
      "execution_count": 73,
      "outputs": []
    },
    {
      "cell_type": "code",
      "metadata": {
        "colab": {
          "base_uri": "https://localhost:8080/"
        },
        "id": "7REqxWJaRWst",
        "outputId": "8eb182e9-d4c1-4d64-94f2-3479da907c3c"
      },
      "source": [
        "prediction_1 = np.argmax(prediction_1)\n",
        "prediction_1"
      ],
      "execution_count": 74,
      "outputs": [
        {
          "output_type": "execute_result",
          "data": {
            "text/plain": [
              "8"
            ]
          },
          "metadata": {},
          "execution_count": 74
        }
      ]
    },
    {
      "cell_type": "code",
      "metadata": {
        "colab": {
          "base_uri": "https://localhost:8080/"
        },
        "id": "U860kVryRjGP",
        "outputId": "51c8a006-6082-45d8-ad10-f2c1275a19f4"
      },
      "source": [
        "test_labels[9000]"
      ],
      "execution_count": 75,
      "outputs": [
        {
          "output_type": "execute_result",
          "data": {
            "text/plain": [
              "array([8], dtype=uint8)"
            ]
          },
          "metadata": {},
          "execution_count": 75
        }
      ]
    },
    {
      "cell_type": "code",
      "metadata": {
        "colab": {
          "base_uri": "https://localhost:8080/"
        },
        "id": "8nJlVCynSMui",
        "outputId": "44bdaa9e-457a-4666-e40f-65d661206496"
      },
      "source": [
        "prediction_1 = predictions[5000]\n",
        "prediction_1 = np.argmax(prediction_1)\n",
        "prediction_1"
      ],
      "execution_count": 76,
      "outputs": [
        {
          "output_type": "execute_result",
          "data": {
            "text/plain": [
              "7"
            ]
          },
          "metadata": {},
          "execution_count": 76
        }
      ]
    },
    {
      "cell_type": "code",
      "metadata": {
        "colab": {
          "base_uri": "https://localhost:8080/"
        },
        "id": "PqwGgtYvSPG8",
        "outputId": "ae3aedc5-6a2f-4c06-e76c-9a7d7b783cd4"
      },
      "source": [
        "test_labels[5000]"
      ],
      "execution_count": 77,
      "outputs": [
        {
          "output_type": "execute_result",
          "data": {
            "text/plain": [
              "array([7], dtype=uint8)"
            ]
          },
          "metadata": {},
          "execution_count": 77
        }
      ]
    }
  ]
}
